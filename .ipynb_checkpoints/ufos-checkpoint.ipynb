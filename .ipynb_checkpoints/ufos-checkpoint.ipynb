{
 "cells": [
  {
   "cell_type": "markdown",
   "metadata": {},
   "source": [
    "# UFO Question \n",
    "\n",
    "Our data science team has predicted that the Earth is going to be invaded by an alien force in the\n",
    "next years. Our only hope is to replicate a device that can block all alien technology in a radius of\n",
    "~300km. Sadly, the device was sold in 2004 to an anonymous buyer to protect her hometown and\n",
    "we don't know how contact her again. We know that the device has been active since 2004 in one\n",
    "city in the USA, and we want to know where to start our search.\n",
    "We've included a dataset called ​ufo.csv​. This dataset contains over 80,000 reports of UFO sightings\n",
    "over the last century (all of them verified by the ESA). Using this dataset, try to guess the city in\n",
    "which the device has been hidden.\n"
   ]
  },
  {
   "cell_type": "code",
   "execution_count": null,
   "metadata": {},
   "outputs": [],
   "source": [
    "from pymongo import MongoClient\n",
    "import pandas as pd"
   ]
  },
  {
   "cell_type": "markdown",
   "metadata": {},
   "source": [
    "### Import Data:"
   ]
  },
  {
   "cell_type": "code",
   "execution_count": null,
   "metadata": {},
   "outputs": [],
   "source": [
    "cliente = MongoClient(\"mongodb://localhost:27017/\")\n",
    "db=cliente.ufo #Database\n",
    "col=db.ufo #Collection"
   ]
  },
  {
   "cell_type": "markdown",
   "metadata": {},
   "source": [
    "### Select Data:"
   ]
  },
  {
   "cell_type": "code",
   "execution_count": null,
   "metadata": {},
   "outputs": [],
   "source": [
    "ufos=list(col.find({'country':'us','year':{'$gte':2004}},{'_id':0,'latitude':1,'longitude':1}))\n",
    "# Show only Latitude & Longitude"
   ]
  },
  {
   "cell_type": "markdown",
   "metadata": {},
   "source": [
    "### Find the City:"
   ]
  },
  {
   "cell_type": "code",
   "execution_count": null,
   "metadata": {
    "scrolled": true
   },
   "outputs": [],
   "source": [
    "df = pd.DataFrame(ufos)\n",
    "df.head(6)"
   ]
  },
  {
   "cell_type": "code",
   "execution_count": null,
   "metadata": {},
   "outputs": [],
   "source": [
    "import folium\n",
    "from folium import plugins"
   ]
  },
  {
   "cell_type": "code",
   "execution_count": null,
   "metadata": {},
   "outputs": [],
   "source": [
    "df.astype('int32').dtypes # Cast coordinates because they were decimals and pandas could not manage them"
   ]
  },
  {
   "cell_type": "code",
   "execution_count": null,
   "metadata": {},
   "outputs": [],
   "source": [
    "mapa = folium.Map([36.16153736194187, -86.77601094912461], zoom_start=5,png_enabled=True) #Png enabled true allows create a png\n",
    "\n",
    "data=df[['latitude', 'longitude']].values\n",
    "\n",
    "folium.Marker([36.16153736194187, -86.77601094912461],\n",
    "              popup=\"<img src=img/machine.png>\",\n",
    "              tooltip=\"Don't dare to click\",width='500px', height='500px', crs='Simple').add_to(mapa)\n",
    "mapa.add_child(plugins.HeatMap(data, radius=30))\n",
    "\n",
    "mapa.save('heat_map.html')"
   ]
  },
  {
   "cell_type": "code",
   "execution_count": null,
   "metadata": {},
   "outputs": [],
   "source": [
    "#Se podría sacar captra de pantalla a través de Selenium? trastear"
   ]
  },
  {
   "cell_type": "code",
   "execution_count": null,
   "metadata": {},
   "outputs": [],
   "source": [
    "#mapa._to_png() - definido en la docu de folium\n",
    "#Tira de Selenium pero no lo pilla correctamente"
   ]
  },
  {
   "cell_type": "code",
   "execution_count": null,
   "metadata": {},
   "outputs": [],
   "source": [
    "mapa.render()"
   ]
  },
  {
   "cell_type": "code",
   "execution_count": null,
   "metadata": {},
   "outputs": [],
   "source": [
    "# mapa._to_png()"
   ]
  },
  {
   "cell_type": "code",
   "execution_count": null,
   "metadata": {},
   "outputs": [],
   "source": [
    "# Hacer mapa calor en movimiento con franja de años"
   ]
  }
 ],
 "metadata": {
  "kernelspec": {
   "display_name": "Python 3 (ipykernel)",
   "language": "python",
   "name": "python3"
  },
  "language_info": {
   "codemirror_mode": {
    "name": "ipython",
    "version": 3
   },
   "file_extension": ".py",
   "mimetype": "text/x-python",
   "name": "python",
   "nbconvert_exporter": "python",
   "pygments_lexer": "ipython3",
   "version": "3.9.7"
  }
 },
 "nbformat": 4,
 "nbformat_minor": 2
}
